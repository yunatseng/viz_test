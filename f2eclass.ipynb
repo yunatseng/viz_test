{
  "nbformat": 4,
  "nbformat_minor": 0,
  "metadata": {
    "colab": {
      "provenance": [],
      "authorship_tag": "ABX9TyNTrrF8ThZdf41rhkcAwxum",
      "include_colab_link": true
    },
    "kernelspec": {
      "name": "python3",
      "display_name": "Python 3"
    },
    "language_info": {
      "name": "python"
    }
  },
  "cells": [
    {
      "cell_type": "markdown",
      "metadata": {
        "id": "view-in-github",
        "colab_type": "text"
      },
      "source": [
        "<a href=\"https://colab.research.google.com/github/yunatseng/viz_test/blob/main/f2eclass.ipynb\" target=\"_parent\"><img src=\"https://colab.research.google.com/assets/colab-badge.svg\" alt=\"Open In Colab\"/></a>"
      ]
    },
    {
      "cell_type": "code",
      "execution_count": 1,
      "metadata": {
        "id": "ThpR93VKx0CK"
      },
      "outputs": [],
      "source": [
        "import requests\n",
        "from bs4 import BeautifulSoup"
      ]
    },
    {
      "cell_type": "code",
      "source": [
        "BASE_URL = 'https://www.pazzo.com.tw/api/v1/market/content?CustomMarketID=MT1M20833CL46881SZ_'"
      ],
      "metadata": {
        "id": "ncEhvljbyEII"
      },
      "execution_count": 2,
      "outputs": []
    },
    {
      "cell_type": "code",
      "source": [
        "response = requests.get(BASE_URL)\n",
        "# print json content\n",
        "res = response.json()\n",
        "print(res)"
      ],
      "metadata": {
        "colab": {
          "base_uri": "https://localhost:8080/"
        },
        "id": "AamR-CHsx8WO",
        "outputId": "e3df5a82-1a08-444c-9fe2-a9952af439f6"
      },
      "execution_count": 22,
      "outputs": [
        {
          "output_type": "stream",
          "name": "stdout",
          "text": [
            "{'Code': 200, 'Message': None, 'Description': None, 'Response': {'CustomMarketID': 'MT1M20833CL46881SZ_', 'MarketID': 20833, 'ProductID': 20727, 'ColorID': 46881, 'Type': 1, 'Name': '棉麻澎澎袖綁帶上衣', 'SubTitle': '此款版型適中', 'SellPrice': 890.0, 'OriginPrice': 890.0, 'EventPrice': 0.0, 'CurrencySymbol': None, 'IsPreShow': False, 'Limit': 0, 'SellEnd': '2099/04/13 13:54:00', 'Brand': None, 'Colors': [{'ID': 46881, 'Name': '白', 'PintSizePictureUrl': 'https://pic.pzcdn.tw/pazzo/ProductColor/34d50420-4ad3-4e66-9525-6753ee1c05f3.jpg', 'Sort': 1, 'Specs': [{'ID': 112844, 'Barcode': 'P400092610100', 'Key': 0, 'Name': 'F', 'Description': '', 'Stock': 20, 'Sort': 0, 'PreOrder': False, 'IsOutOfStock': True}], 'Images': [{'Url': 'https://pic.pzcdn.tw/pazzo/ProductBasic/b6f31f61-a357-40da-ba83-f3a8daf167ec.jpg', 'Category': 0, 'VideoUrl': '', 'VideoMUrl': ''}, {'Url': 'https://pic.pzcdn.tw/pazzo/Employee/70071d9d-083a-4dc0-a1d1-04d2d37b55ae.jpg', 'Category': 10, 'VideoUrl': '', 'VideoMUrl': ''}, {'Url': 'https://pic.pzcdn.tw/pazzo/ProductCover/b6f31f61-a357-40da-ba83-f3a8daf167ec.jpg', 'Category': 11, 'VideoUrl': '', 'VideoMUrl': ''}, {'Url': 'https://pic.pzcdn.tw/pazzo/ProductBasic/f24b895d-3b1a-4881-aa09-09201dfb3f43.jpg', 'Category': 0, 'VideoUrl': '', 'VideoMUrl': ''}, {'Url': 'https://pic.pzcdn.tw/pazzo/ProductCover/107845ba-73b1-4bc4-aad5-2ef3c2a76951.jpg', 'Category': 11, 'VideoUrl': '', 'VideoMUrl': ''}, {'Url': 'https://pic.pzcdn.tw/pazzo/ProductBasic/d2eb6e40-b632-4d1f-8bd5-5dcff6194811.jpg', 'Category': 0, 'VideoUrl': '', 'VideoMUrl': ''}, {'Url': 'https://pic.pzcdn.tw/pazzo/ProductBasic/0eaa2b83-2db2-4381-9cf5-5657606a4f44.jpg', 'Category': 0, 'VideoUrl': '', 'VideoMUrl': ''}, {'Url': 'https://pic.pzcdn.tw/pazzo/ProductBasic/70eeb665-6446-44c8-9e5f-fdd12bf0c5df.jpg', 'Category': 0, 'VideoUrl': '', 'VideoMUrl': ''}, {'Url': 'https://pic.pzcdn.tw/pazzo/ProductBasic/dbe488c7-9cd1-48e3-82a3-13777485b984.jpg', 'Category': 0, 'VideoUrl': '', 'VideoMUrl': ''}, {'Url': 'https://pic.pzcdn.tw/pazzo/ProductBasic/0bcf8c26-b2e6-4936-aa45-daecf5827936.jpg', 'Category': 0, 'VideoUrl': '', 'VideoMUrl': ''}, {'Url': 'https://pic.pzcdn.tw/pazzo/ProductBasic/6999d18a-7080-4a65-afd8-bd665d7ce8f2.jpg', 'Category': 0, 'VideoUrl': '', 'VideoMUrl': ''}, {'Url': 'https://pic.pzcdn.tw/pazzo/ProductBasic/289ec381-c92e-4eec-80b5-aa5ee4b65c43.jpg', 'Category': 0, 'VideoUrl': '', 'VideoMUrl': ''}, {'Url': 'https://pic.pzcdn.tw/pazzo/ProductBasic/25506d55-fa6d-4f4e-8494-21ced145a812.jpg', 'Category': 0, 'VideoUrl': '', 'VideoMUrl': ''}, {'Url': 'https://pic.pzcdn.tw/pazzo/ProductBasic/5b2bd634-86b0-43cc-90e6-03b74af81ea0.jpg', 'Category': 0, 'VideoUrl': '', 'VideoMUrl': ''}, {'Url': 'https://pic.pzcdn.tw/pazzo/ProductBasic/fd495400-2bf5-40de-81c5-c45811f3ef05.jpg', 'Category': 0, 'VideoUrl': '', 'VideoMUrl': ''}], 'FavoriteCount': 117, 'SalesCountDescription': '銷售破百', 'IsFavorite': False, 'MarketUrl': '/en-us/market/n/20833?c=46881', 'Stock': 20}], 'Labels': [], 'Events': [], 'GiftEvents': [], 'AddOnEvents': [], 'OriginDescription': '中國', 'MaterialOriginDescription': '中國', 'MaterialDescription': '亞麻 80% 棉 20%<BR>厚薄:適中<BR>彈性:無', 'Description': '舒適棉麻不刺膚/ 下擺鬆緊帶設計/ 大澎澎袖設計', 'SizeReport': '<div class=\"size-guide\">\\n    <h1>Size Guide</h1>\\n    <div class=\"size-guide__section\">\\n        <h2>Size Chart 產品尺寸</h2>\\n        <div class=\"size-guide__content\">\\n            <!--尺寸表開始-->\\n            <table height=\"273\" width=\"693\">\\n                <tbody>\\n                    <tr>\\n                        <td height=\"45\" width=\"53\">尺碼</td>\\n                        <td width=\"53\">胸寬</td>\\n                        <td width=\"53\">下擺寬</td>\\n                        <td width=\"53\">衣長</td>\\n                        <td width=\"53\">袖長</td>\\n                        <td width=\"53\">袖口寬</td>\\n                        <td width=\"53\">重量g</td>\\n                        <td class=\"etc\" rowspan=\"3\"><img src=\"https://pics.pzcdn.tw/pazzo/size/shirt_03.jpg\" width=\"213\" height=\"279\" class=\"fr-fic fr-dii\"></td>\\n                    </tr>\\n                    <tr>\\n                        <td height=\"45\">F</td>\\n                        <td>55</td>\\n                        <td>33</td>\\n                        <td>48</td>\\n                        <td>69</td>\\n                        <td>10.5</td>\\n                        <td>357</td>\\n                    </tr>\\n                </tbody>\\n            </table>\\n            <table border=\"0\" class=\"etc\">\\n                <tbody>\\n                    <tr>\\n                        <td height=\"50\">\\n                            <p>A肩寬 B胸寬 C下擺寬 D袖長 E袖口寬 F臂圍 G衣長</p>\\n                        </td>\\n                    </tr>\\n                    <tr>\\n                        <td height=\"50\">※本尺寸表皆為水平測量，會因布料彈性、水洗處理、測量起訖點等因素，\\n                            <br>與實際商品尺寸略有誤差，誤差尺寸&plusmn;2cm，\\n                            <br>在國際驗貨標準範圍都是屬於可接受範圍，並不屬於瑕疵。\\ue7b1</td>\\n                    </tr>\\n                </tbody>\\n            </table>\\n            <!--尺寸表結束-->\\n        </div></div>\\n    <div class=\"size-guide__section\">\\n        <h2>Fitting Report 試穿報告</h2>\\n        <div class=\"size-guide__content\">\\n            <!--試穿報告開始-->\\n            <table height=\"273\" style=\"width: 711px;min-width: 100%;\">\\n                <tbody>\\n                    <tr>\\n                        <td height=\"60\" width=\"56\">試穿人員</td>\\n                        <td width=\"52\">身高\\n                            <br>(cm)</td>\\n                        <td width=\"52\">體重\\n                            <br>(kg)</td>\\n                        <td width=\"72\">身形</td>\\n                        <td width=\"52\">肩寬\\n                            <br>(cm)</td>\\n                        <td width=\"52\">上胸圍\\n                            <br>(cm)</td>\\n                        <td width=\"52\">下胸圍\\n                            <br>(cm)</td>\\n                        <td width=\"52\">腰圍\\n                            <br>(cm)</td>\\n                        <td width=\"52\">下腰圍\\n                            <br>(cm)</td>\\n                        <td width=\"52\">臀圍\\n                            <br>(cm)</td>\\n                        <td width=\"56\">內衣罩杯</td>\\n                        <td width=\"56\">建議尺寸</td>\\n                    </tr>\\n                    <tr>\\n                        <td>羊</td>\\n                        <td>158</td>\\n                        <td>52</td>\\n                        <td>上圍豐滿\\n                            <br>肉肉腰\\n                            <br>臀腿細直</td>\\n                        <td>34</td>\\n                        <td>88</td>\\n                        <td>72</td>\\n                        <td>69</td>\\n                        <td>79</td>\\n                        <td>91</td>\\n                        <td>75C</td>\\n                        <td>F</td>\\n                    </tr>\\n                    <tr>\\n                        <td>A</td>\\n                        <td>156</td>\\n                        <td>44</td>\\n                        <td>纖細身材\\n                            <br>體型扁身</td>\\n                        <td>34</td>\\n                        <td>80</td>\\n                        <td>67</td>\\n                        <td>62</td>\\n                        <td>72</td>\\n                        <td>84</td>\\n                        <td>70B</td>\\n                        <td>F</td>\\n                    </tr>\\n                    <tr>\\n                        <td>B</td>\\n                        <td>160</td>\\n                        <td>62</td>\\n                        <td>體型結實\\n                            <br>臀圍較大\\n                            <br>大腿略粗</td>\\n                        <td>36.5</td>\\n                        <td>89</td>\\n                        <td>74</td>\\n                        <td>69</td>\\n                        <td>84</td>\\n                        <td>98</td>\\n                        <td>75C</td>\\n                        <td>F</td>\\n                    </tr>\\n                    <tr>\\n                        <td>D</td>\\n                        <td>163</td>\\n                        <td>58</td>\\n                        <td>上身略扁身\\n                            <br>下身較圓潤</td>\\n                        <td>35.5</td>\\n                        <td>87</td>\\n                        <td>74</td>\\n                        <td>71</td>\\n                        <td>88</td>\\n                        <td>98</td>\\n                        <td>75B</td>\\n                        <td>F</td>\\n                    </tr>\\n                </tbody>\\n            </table>\\n            <br>每個人身高體重和商品尺寸不盡相同，身高155Cm豐腴與180cm纖細的女孩有可能選擇同樣尺寸的商品\\n            <br>胸圍尺寸的大小會影響選擇尺寸的關鍵，建議您可以參考試穿人員的胸圍做商品購買的選擇\\n            <br>如果肩膀是屬於較寬的人，建議先參考商品的胸圍尺寸後再對照肩寬的尺寸測量\\n            <br>\\n            <br><img src=\"https://pics.pzcdn.tw/pazzo/size/try1.jpg\" class=\"fr-fic fr-dii\"> <img src=\"https://pics.pzcdn.tw/pazzo/size/try2.jpg\" class=\"fr-fic fr-dii\">\\n            <table border=\"0\" class=\"etc\">\\n                <tbody>\\n                    <tr>\\n                        <td height=\"50\" valign=\"top\" width=\"236\">A腰圍 B下腰圍 C臀圍\\n                            <br>C臀圍/側腰頭下20公分處的水平寬度</td>\\n                        <td valign=\"top\" width=\"121\">A肩寬 B胸圍</td>\\n                    </tr>\\n                </tbody>\\n            </table>\\n            <!--試穿報告結束-->\\n        </div></div>\\n    <div class=\"size-guide__section\">\\n        <h2>Models Reference 模特兒參考</h2>\\n        <div class=\"size-guide__content\">\\n            <!--模特兒參考開始-->\\n            <table height=\"100\" width=\"693\">\\n                <tbody>\\n                    <tr>\\n                        <td height=\"60\" width=\"60\">身高</td>\\n                        <td width=\"52\">體重</td>\\n                        <td width=\"52\">肩寬</td>\\n                        <td width=\"52\">胸圍</td>\\n                        <td width=\"52\">腰圍</td>\\n                        <td width=\"52\">臀圍</td>\\n                        <td width=\"52\">尺碼</td>\\n                        <td class=\"etc\" rowspan=\"2\" width=\"15\">\\n                            <br>\\n                        </td>\\n                        <td class=\"etc\" rowspan=\"2\" valign=\"top\">\\n                            <br>個人比例條件不同\\n                            <br>穿著感受會有不同差異\\n                            <br>數值僅供參考\\n                            <br>\\n                        </td>\\n                        <td class=\"etc\" rowspan=\"2\" width=\"15\">\\n                            <br>\\n                        </td>\\n                    </tr>\\n                    <tr>\\n                        <td>175</td>\\n                        <td>53</td>\\n                        <td>37</td>\\n                        <td>76</td>\\n                        <td>60.5</td>\\n                        <td>92</td>\\n                        <td>F</td>\\n                    </tr>\\n                </tbody>\\n            </table>\\n            <!--模特兒參考結束-->\\n        </div></div></div>', 'CareLabelDesc': '<p>1.深淺色請分開洗滌，以避免造成互相移染。</p><p>2.請放入大小適中之細網洗衣袋細中弱速水洗，以保持商品型態。</p><p>3.洗滌時，水溫請低於30℃；請使用中性洗劑；浸泡時間不宜過長。</p><p>4.請勿使用漂白劑、螢光增白劑及衣物柔軟劑，以免破壞布料。</p><p>5.不可濕放，以免衣物染色；請弱速輕脫水，不可烘乾，以免衣物縮水。</p><p>6.清洗後請快速調整商品型態即可，吊掛晾乾，不可擰扭。表面有細壓摺的衣物請平放晾乾，勿直接曝曬於陽光下。</p><p>7.如需整燙，請以低溫墊布熨燙，溫度不可超過110℃。</p><p>8.穿著時，請留意避免與配件包包等他物接觸摩擦。</p><p>9.此商品易因摩擦而導致沾色，穿著淺色時請避免接觸深色物品。</p><p>10.特殊水洗效果與染料特性，逐漸褪色為自然現象。</p><p>11.天然纖維的面料,例如100%全棉或100%全麻的材質,因吸濕性較大,故縮水率相應也比一般材質大些,經水洗滌後會有逐漸縮水屬於正常現象。</p><p>12.建議水洗晾乾後可使用蒸汽漏斗加以整燙，可以改善商品縮水的問題。</p>', 'IsNotEmployeeDiscount': False, 'IsLimitedRefund': False, 'IsForeginDeliver': True, 'IsOffshoreIsland': True, 'IsBuyable': True, 'IsCommonLayout': True, 'CustomerLayout': None, 'ArrivalExplanation': '', 'Temperature': 0, 'KOLMarketLayout': []}}\n"
          ]
        }
      ]
    },
    {
      "cell_type": "code",
      "source": [
        "# 提取Response對象中的CustomMarketID\n",
        "custom_market_id = res['Response']['CustomMarketID']\n",
        "\n",
        "# 輸出CustomMarketID\n",
        "print(custom_market_id)"
      ],
      "metadata": {
        "colab": {
          "base_uri": "https://localhost:8080/"
        },
        "id": "FJZ6Sad_2ARx",
        "outputId": "3c039f7d-1ad5-40eb-9548-cb4969f6668b"
      },
      "execution_count": 25,
      "outputs": [
        {
          "output_type": "stream",
          "name": "stdout",
          "text": [
            "MT1M20833CL46881SZ_\n"
          ]
        }
      ]
    },
    {
      "cell_type": "code",
      "source": [
        "res.Response.CustomMarketID"
      ],
      "metadata": {
        "colab": {
          "base_uri": "https://localhost:8080/",
          "height": 175
        },
        "id": "CFm8qwmX3ZSs",
        "outputId": "cfc3e239-c465-4645-fd0a-30f420285db2"
      },
      "execution_count": 26,
      "outputs": [
        {
          "output_type": "error",
          "ename": "AttributeError",
          "evalue": "ignored",
          "traceback": [
            "\u001b[0;31m---------------------------------------------------------------------------\u001b[0m",
            "\u001b[0;31mAttributeError\u001b[0m                            Traceback (most recent call last)",
            "\u001b[0;32m<ipython-input-26-28ade14c35b2>\u001b[0m in \u001b[0;36m<cell line: 1>\u001b[0;34m()\u001b[0m\n\u001b[0;32m----> 1\u001b[0;31m \u001b[0mres\u001b[0m\u001b[0;34m.\u001b[0m\u001b[0mResponse\u001b[0m\u001b[0;34m\u001b[0m\u001b[0;34m\u001b[0m\u001b[0m\n\u001b[0m",
            "\u001b[0;31mAttributeError\u001b[0m: 'dict' object has no attribute 'Response'"
          ]
        }
      ]
    },
    {
      "cell_type": "code",
      "source": [
        "description = res['Response']['Description']"
      ],
      "metadata": {
        "id": "D2p5EL_m79jq"
      },
      "execution_count": 27,
      "outputs": []
    },
    {
      "cell_type": "code",
      "source": [
        "description"
      ],
      "metadata": {
        "colab": {
          "base_uri": "https://localhost:8080/",
          "height": 36
        },
        "id": "UBLLdBpN8o26",
        "outputId": "06be2529-58e0-42fb-d746-dae76ebea448"
      },
      "execution_count": 28,
      "outputs": [
        {
          "output_type": "execute_result",
          "data": {
            "text/plain": [
              "'舒適棉麻不刺膚/ 下擺鬆緊帶設計/ 大澎澎袖設計'"
            ],
            "application/vnd.google.colaboratory.intrinsic+json": {
              "type": "string"
            }
          },
          "metadata": {},
          "execution_count": 28
        }
      ]
    },
    {
      "cell_type": "code",
      "source": [
        "result_json = {\n",
        "    'custom_market_id': custom_market_id,\n",
        "    'description': description\n",
        "}\n",
        "\n",
        "# 輸出結果\n",
        "print(result_json)"
      ],
      "metadata": {
        "colab": {
          "base_uri": "https://localhost:8080/"
        },
        "id": "LzV6fPsF8rtd",
        "outputId": "ba34815e-3d9f-4198-b6ea-1faa4202e063"
      },
      "execution_count": 29,
      "outputs": [
        {
          "output_type": "stream",
          "name": "stdout",
          "text": [
            "{'custom_market_id': 'MT1M20833CL46881SZ_', 'description': '舒適棉麻不刺膚/ 下擺鬆緊帶設計/ 大澎澎袖設計'}\n"
          ]
        }
      ]
    }
  ]
}