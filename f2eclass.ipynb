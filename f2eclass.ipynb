{
  "nbformat": 4,
  "nbformat_minor": 0,
  "metadata": {
    "colab": {
      "provenance": [],
      "authorship_tag": "ABX9TyNTrrF8ThZdf41rhkcAwxum",
      "include_colab_link": true
    },
    "kernelspec": {
      "name": "python3",
      "display_name": "Python 3"
    },
    "language_info": {
      "name": "python"
    }
  },
  "cells": [
    {
      "cell_type": "markdown",
      "metadata": {
        "id": "view-in-github",
        "colab_type": "text"
      },
      "source": [
        "<a href=\"https://colab.research.google.com/github/yunatseng/viz_test/blob/main/f2eclass.ipynb\" target=\"_parent\"><img src=\"https://colab.research.google.com/assets/colab-badge.svg\" alt=\"Open In Colab\"/></a>"
      ]
    },
    {
      "cell_type": "code",
      "execution_count": 1,
      "metadata": {
        "id": "ThpR93VKx0CK"
      },
      "outputs": [],
      "source": [
        "import requests\n",
        "from bs4 import BeautifulSoup"
      ]
    },
    {
      "cell_type": "code",
      "source": [
        "BASE_URL = 'https://www.pazzo.com.tw/api/v1/market/content?CustomMarketID=MT1M20833CL46881SZ_'"
      ],
      "metadata": {
        "id": "ncEhvljbyEII"
      },
      "execution_count": 2,
      "outputs": []
    },
    {
      "cell_type": "code",
      "source": [
        "response = requests.get(BASE_URL)\n",
        "# print json content\n",
        "res = response.json()\n",
        "print(res)"
      ],
      "metadata": {
        "id": "AamR-CHsx8WO"
      },
      "execution_count": null,
      "outputs": []
    },
    {
      "cell_type": "code",
      "source": [
        "# 提取Response對象中的CustomMarketID\n",
        "custom_market_id = res['Response']['CustomMarketID']\n",
        "\n",
        "# 輸出CustomMarketID\n",
        "print(custom_market_id)"
      ],
      "metadata": {
        "colab": {
          "base_uri": "https://localhost:8080/"
        },
        "id": "FJZ6Sad_2ARx",
        "outputId": "3c039f7d-1ad5-40eb-9548-cb4969f6668b"
      },
      "execution_count": 25,
      "outputs": [
        {
          "output_type": "stream",
          "name": "stdout",
          "text": [
            "MT1M20833CL46881SZ_\n"
          ]
        }
      ]
    },
    {
      "cell_type": "code",
      "source": [
        "res.Response.CustomMarketID"
      ],
      "metadata": {
        "colab": {
          "base_uri": "https://localhost:8080/",
          "height": 175
        },
        "id": "CFm8qwmX3ZSs",
        "outputId": "cfc3e239-c465-4645-fd0a-30f420285db2"
      },
      "execution_count": 26,
      "outputs": [
        {
          "output_type": "error",
          "ename": "AttributeError",
          "evalue": "ignored",
          "traceback": [
            "\u001b[0;31m---------------------------------------------------------------------------\u001b[0m",
            "\u001b[0;31mAttributeError\u001b[0m                            Traceback (most recent call last)",
            "\u001b[0;32m<ipython-input-26-28ade14c35b2>\u001b[0m in \u001b[0;36m<cell line: 1>\u001b[0;34m()\u001b[0m\n\u001b[0;32m----> 1\u001b[0;31m \u001b[0mres\u001b[0m\u001b[0;34m.\u001b[0m\u001b[0mResponse\u001b[0m\u001b[0;34m\u001b[0m\u001b[0;34m\u001b[0m\u001b[0m\n\u001b[0m",
            "\u001b[0;31mAttributeError\u001b[0m: 'dict' object has no attribute 'Response'"
          ]
        }
      ]
    },
    {
      "cell_type": "code",
      "source": [
        "description = res['Response']['Description']"
      ],
      "metadata": {
        "id": "D2p5EL_m79jq"
      },
      "execution_count": 27,
      "outputs": []
    },
    {
      "cell_type": "code",
      "source": [
        "description"
      ],
      "metadata": {
        "colab": {
          "base_uri": "https://localhost:8080/",
          "height": 36
        },
        "id": "UBLLdBpN8o26",
        "outputId": "06be2529-58e0-42fb-d746-dae76ebea448"
      },
      "execution_count": 28,
      "outputs": [
        {
          "output_type": "execute_result",
          "data": {
            "text/plain": [
              "'舒適棉麻不刺膚/ 下擺鬆緊帶設計/ 大澎澎袖設計'"
            ],
            "application/vnd.google.colaboratory.intrinsic+json": {
              "type": "string"
            }
          },
          "metadata": {},
          "execution_count": 28
        }
      ]
    },
    {
      "cell_type": "code",
      "source": [
        "result_json = {\n",
        "    'custom_market_id': custom_market_id,\n",
        "    'description': description\n",
        "}\n",
        "\n",
        "# 輸出結果\n",
        "print(result_json)"
      ],
      "metadata": {
        "colab": {
          "base_uri": "https://localhost:8080/"
        },
        "id": "LzV6fPsF8rtd",
        "outputId": "ba34815e-3d9f-4198-b6ea-1faa4202e063"
      },
      "execution_count": 29,
      "outputs": [
        {
          "output_type": "stream",
          "name": "stdout",
          "text": [
            "{'custom_market_id': 'MT1M20833CL46881SZ_', 'description': '舒適棉麻不刺膚/ 下擺鬆緊帶設計/ 大澎澎袖設計'}\n"
          ]
        }
      ]
    }
  ]
}